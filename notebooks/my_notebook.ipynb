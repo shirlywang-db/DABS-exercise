{
 "cells": [
  {
   "cell_type": "code",
   "execution_count": null,
   "metadata": {},
   "outputs": [],
   "source": [
    "%load_ext autoreload\n",
    "%autoreload 2"
   ]
  },
  {
   "cell_type": "code",
   "execution_count": null,
   "metadata": {},
   "outputs": [],
   "source": [
    "print(\"This is release 2\")"
   ]
  },
  {
   "cell_type": "code",
   "execution_count": null,
   "metadata": {},
   "outputs": [],
   "source": [
    "from databricks.connect import DatabricksSession\n",
    "spark = DatabricksSession.builder.getOrCreate()"
   ]
  },
  {
   "cell_type": "code",
   "execution_count": null,
   "metadata": {},
   "outputs": [],
   "source": [
    "%pip install openmeteo-requests==1.2.0\n",
    "%pip install requests-cache==1.2.0\n",
    "%pip install retry-requests==2.0.0\n",
    "%pip install geopy==2.4.1\n",
    "dbutils.library.restartPython()"
   ]
  },
  {
   "cell_type": "code",
   "execution_count": null,
   "metadata": {},
   "outputs": [],
   "source": [
    "import sys\n",
    "import os\n",
    "sys.path.append(os.path.abspath('..'))"
   ]
  },
  {
   "cell_type": "code",
   "execution_count": null,
   "metadata": {},
   "outputs": [],
   "source": [
    "import pandas as pd\n",
    "from weather_utilities.coffee_weather import find_region_latlong, pull_weather_data"
   ]
  },
  {
   "cell_type": "code",
   "execution_count": null,
   "metadata": {},
   "outputs": [],
   "source": [
    "catalog_name = 'shirlywang_sandbox'"
   ]
  },
  {
   "cell_type": "code",
   "execution_count": null,
   "metadata": {},
   "outputs": [],
   "source": [
    "dbutils.widgets.text(\"schema_name\", \"\")\n",
    "schema_name = dbutils.widgets.get(\"schema_name\")\n",
    "spark.sql(f\"CREATE SCHEMA IF NOT EXISTS {catalog_name}.{schema_name}\")"
   ]
  },
  {
   "cell_type": "code",
   "execution_count": 29,
   "metadata": {},
   "outputs": [],
   "source": [
    "coffee_data = spark.read.table(\"dnb_wave_5.sandbox.coffee_raw\")"
   ]
  },
  {
   "cell_type": "code",
   "execution_count": 4,
   "metadata": {},
   "outputs": [],
   "source": [
    "unique_regions = coffee_data.select(\"Country of Origin\").distinct().collect()\n",
    "region_list = [row[\"Country of Origin\"] for row in unique_regions]"
   ]
  },
  {
   "cell_type": "code",
   "execution_count": 21,
   "metadata": {},
   "outputs": [],
   "source": [
    "geocodes = find_region_latlong(region_list)\n",
    "latitude = [loc.latitude for location_dict in geocodes for country, loc in location_dict.items()]\n",
    "longitude = [loc.longitude for location_dict in geocodes for country, loc in location_dict.items()]\n",
    "\n",
    "location_weather_data = pull_weather_data(latitude, longitude)"
   ]
  },
  {
   "cell_type": "code",
   "execution_count": 25,
   "metadata": {},
   "outputs": [],
   "source": [
    "df = pd.DataFrame(location_weather_data)\n",
    "df['date'] = df['date'].apply(lambda x: [date.date() for date in x])\n",
    "\n",
    "spark_df = spark.createDataFrame(df)"
   ]
  },
  {
   "cell_type": "code",
   "execution_count": 26,
   "metadata": {},
   "outputs": [],
   "source": [
    "extracted_info = [{\"country\": country, \"latitude\": loc.latitude, \"longitude\": loc.longitude} for location_dict in geocodes for country, loc in location_dict.items()]\n",
    "region_location_map = spark.createDataFrame(extracted_info)"
   ]
  },
  {
   "cell_type": "code",
   "execution_count": 27,
   "metadata": {},
   "outputs": [],
   "source": [
    "joined = spark_df \\\n",
    "    .join(region_location_map, spark_df.latitude == region_location_map.latitude, how='left') \\\n",
    "    .drop(region_location_map.latitude, region_location_map.longitude)"
   ]
  },
  {
   "cell_type": "code",
   "execution_count": 30,
   "metadata": {},
   "outputs": [],
   "source": [
    "joined.write.mode(\"ignore\").format(\"delta\").saveAsTable(f\"{catalog_name}.{schema_name}.location_weather_raw\")"
   ]
  },
  {
   "cell_type": "code",
   "execution_count": null,
   "metadata": {},
   "outputs": [],
   "source": [
    "print(1)"
   ]
  }
 ],
 "metadata": {
  "kernelspec": {
   "display_name": "env",
   "language": "python",
   "name": "python3"
  },
  "language_info": {
   "codemirror_mode": {
    "name": "ipython",
    "version": 3
   },
   "file_extension": ".py",
   "mimetype": "text/x-python",
   "name": "python",
   "nbconvert_exporter": "python",
   "pygments_lexer": "ipython3",
   "version": "3.10.12"
  }
 },
 "nbformat": 4,
 "nbformat_minor": 2
}
